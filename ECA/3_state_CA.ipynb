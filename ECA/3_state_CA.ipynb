{
 "cells": [
  {
   "cell_type": "code",
   "execution_count": 9,
   "id": "6420e069",
   "metadata": {
    "scrolled": false
   },
   "outputs": [
    {
     "data": {
      "image/png": "[encoded data removed]",
      "text/plain": [
       "<Figure size 864x864 with 1 Axes>"
      ]
     },
     "metadata": {
      "needs_background": "light"
     },
     "output_type": "display_data"
    }
   ],
   "source": [
    "#Name: Rodrigo Becerra Silva\n",
    "#Class: PHY250 \n",
    "#Instructor: Lloyd Knox\n",
    "\n",
    "# No function, no classes 3 state CA\n",
    "import random\n",
    "from matplotlib import pyplot as plt\n",
    "\n",
    "\n",
    "################################################################################################################################\n",
    "#program\n",
    "\n",
    "length=100\n",
    "time=100\n",
    "rule_number=1777\n",
    "\n",
    "# make the initial condition\n",
    "initial_condition = []\n",
    "for i in range(length):\n",
    "    initial_condition.append(random.randint(0,2))\n",
    "\n",
    "#Possible imputs (list of tuples)\n",
    "neighborhoods=[(0,0),(0,1),(0,2),(1,0),(1,1),(1,2),(2,0),(2,1),(2,2)]\n",
    "\n",
    "#Convert rule number to ternary \n",
    "ter=[]\n",
    "\n",
    "for x in range(9):\n",
    "    \n",
    "    ter.append(rule_number%3)\n",
    "    rule_number=rule_number//3\n",
    "    \n",
    "values=ter[::-1] # reverse it for convention purposes\n",
    "\n",
    "# Create look up table\n",
    "lookup_table={}\n",
    "\n",
    "for i in range(len(neighborhoods)):\n",
    "\n",
    "    lookup_table.update({neighborhoods[i]:values[i]})\n",
    "        \n",
    "# initialize spacetime field and current configuration\n",
    "spacetime_field = [initial_condition]\n",
    "current_configuration = initial_condition.copy()\n",
    "\n",
    "#run program\n",
    "for t in range(time):\n",
    "    \n",
    "    #placeholder\n",
    "    new_configuration=[]\n",
    "    \n",
    "    for i in range(length):\n",
    "        neighborhood=(current_configuration[(i-1)],\n",
    "                      current_configuration[i])\n",
    "        \n",
    "        new_configuration.append(lookup_table[neighborhood])\n",
    "        \n",
    "    spacetime_field.append(new_configuration)\n",
    "        \n",
    "    current_configuration=new_configuration\n",
    "    \n",
    "# plot the spacetime field diagram\n",
    "plt.figure(figsize=(12,12))\n",
    "plt.imshow(spacetime_field, cmap=plt.cm.Greys, interpolation='nearest')\n",
    "plt.show()  "
   ]
  },
  {
   "cell_type": "code",
   "execution_count": 1,
   "id": "6e21cf61",
   "metadata": {
    "scrolled": false
   },
   "outputs": [
    {
     "data": {
      "image/png": "[encoded data removed]",
      "text/plain": [
       "<Figure size 864x864 with 1 Axes>"
      ]
     },
     "metadata": {
      "needs_background": "light"
     },
     "output_type": "display_data"
    }
   ],
   "source": [
    "import random\n",
    "from matplotlib import pyplot as plt\n",
    "\n",
    "\n",
    "#Functions\n",
    "def ter(n):\n",
    "    '''\n",
    "    Returns a list in  \n",
    "    \n",
    "    Parameters\n",
    "    ----------\n",
    "    number (n): int\n",
    "        Posivite integer to be rewritten in base 3.\n",
    "        \n",
    "    Returns\n",
    "    -------\n",
    "    out: list\n",
    "        Number return as a list.\n",
    "    '''\n",
    "    if not isinstance(n, int) or n < 0:\n",
    "        raise ValueError(\"input number must be a positive ingeter\")\n",
    "    tr=[]\n",
    "    \n",
    "    for x in range(9):\n",
    "        tr.append(n%3)\n",
    "        n=n//3\n",
    "    \n",
    "    return tr\n",
    "\n",
    "def create_lookup_table(rule_number):\n",
    "    \n",
    "    '''\n",
    "    Returns a dict with the neighboorhood as the key \n",
    "    \n",
    "    Parameters\n",
    "    ----------\n",
    "    rule_number: int\n",
    "        Posivite integer to be rewritten in base 3.\n",
    "        \n",
    "    Returns\n",
    "    -------\n",
    "    out: dict\n",
    "        Each key maps to the value depending of the rule number.\n",
    "    '''\n",
    "    if not isinstance(rule_number, int) or rule_number < 0 or rule_number > 19682:\n",
    "        raise ValueError(\"rule_number must be an int between 0 and 19682, inclusive\")\n",
    "        \n",
    "\n",
    "    #Possible imputs (list of tuples)\n",
    "    neighborhoods=[(0,0),(0,1),(0,2),(1,0),(1,1),(1,2),(2,0),(2,1),(2,2)]\n",
    "    values=ter(rule_number)[::-1] # reverse it for convention purposes\n",
    "            \n",
    "    return dict(zip(neighborhoods,values))\n",
    "    \n",
    "\n",
    "def plotting(field,size=12):\n",
    "    plt.figure(figsize=(size,size))\n",
    "    plt.imshow(field, cmap=plt.cm.Greys, interpolation='nearest')\n",
    "    plt.show()\n",
    "    \n",
    "#Class\n",
    "\n",
    "class ECA(object):\n",
    "    \n",
    "    def __init__(self, rule_number,initial_condition):\n",
    "        \n",
    "        #Public:\n",
    "        self.initial=initial_condition\n",
    "        self.lookup_table=create_lookup_table(rule_number)\n",
    "        self.spacetime=[initial_condition]\n",
    "        self.current_configuration=initial_condition.copy()\n",
    "        \n",
    "        #Private:\n",
    "        self._length=len(initial_condition)\n",
    "    \n",
    "    def evolve(self,time_steps):\n",
    "        #run program\n",
    "        for t in range(time_steps):\n",
    "    \n",
    "            #placeholder\n",
    "            new_configuration=[]\n",
    "            for i in range(self._length):\n",
    "                neighborhood=(self.current_configuration[(i-1)],\n",
    "                              self.current_configuration[i])\n",
    "\n",
    "                new_configuration.append(self.lookup_table[neighborhood])\n",
    "\n",
    "            self.spacetime.append(new_configuration)\n",
    "\n",
    "            self.current_configuration=new_configuration\n",
    "\n",
    "\n",
    "################################################################################################################################\n",
    "#program\n",
    "\n",
    "length=100\n",
    "time=50\n",
    "rule_number=1777\n",
    "\n",
    "# Create initial condition\n",
    "initial_condition = list(random.randint(0,2) for _ in range(length))\n",
    "\n",
    "program=ECA(rule_number,initial_condition)\n",
    "program.evolve(time)\n",
    "\n",
    "# plot the spacetime field diagram\n",
    "plotting(program.spacetime)"
   ]
  },
  {
   "cell_type": "code",
   "execution_count": 2,
   "id": "d614443a",
   "metadata": {},
   "outputs": [
    {
     "name": "stderr",
     "output_type": "stream",
     "text": [
      "[NbConvertApp] Converting notebook 3_state_CA.ipynb to script\n",
      "[NbConvertApp] Writing 4368 bytes to 3_state_CA.py\n"
     ]
    }
   ],
   "source": [
    "!jupyter nbconvert --to script 3_state_CA.ipynb"
   ]
  },
  {
   "cell_type": "markdown",
   "id": "a1e14800",
   "metadata": {},
   "source": []
  }
 ],
 "metadata": {
  "kernelspec": {
   "display_name": "Python 3",
   "language": "python",
   "name": "python3"
  },
  "language_info": {
   "codemirror_mode": {
    "name": "ipython",
    "version": 3
   },
   "file_extension": ".py",
   "mimetype": "text/x-python",
   "name": "python",
   "nbconvert_exporter": "python",
   "pygments_lexer": "ipython3",
   "version": "3.7.10"
  }
 },
 "nbformat": 4,
 "nbformat_minor": 5
}
